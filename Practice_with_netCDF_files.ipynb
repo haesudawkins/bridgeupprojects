{
 "cells": [
  {
   "cell_type": "markdown",
   "metadata": {},
   "source": [
    "# Exploring netCDFs: The climate scientist's favorite file format\n",
    "![netcdf image](http://desktop.arcgis.com/en/arcmap/10.3/manage-data/netcdf/GUID-D872A4C3-749E-4159-A6C0-FB6D3B47C5D8-web.gif)"
   ]
  },
  {
   "cell_type": "markdown",
   "metadata": {},
   "source": [
    "What are netCDF files? The acronym stands for Network Common Data Form, and they're a way of formatting data that makes it easy for other scientists to share and read data on different computers, with different operating systems, with different software etc... without running into issues or struggling to understand someone else's work! \n",
    "\n",
    "netCDF files are in what we call an array-oriented dataset. Data is stored in arrays, which are like grids, and can be accessed by selecting the appropriate row and column. Remember our Excel grids? These netCDF files are basically just like very large Excel grids, with many different tables (so they can hold a lot of data!). \n",
    "\n",
    "<img src=\"Excel_numpy_arrays.png\" height = '400' width = '500'>\n",
    "\n",
    "With netCDF files, our rows, columns, and other indices are called dimensions, and they can take values such as latitude, longitude and time. <img src=\"https://simulatingcomplexity.files.wordpress.com/2014/11/netcdf-file-structure.png\" width=\"400\">"
   ]
  },
  {
   "cell_type": "markdown",
   "metadata": {},
   "source": [
    "Let's try to explore this file format with an actual file. Make sure you have the file sea_surface_temp.nc in the same folder as your Jupyter Notebook. This is a ds of sea-surface temperatures, collected for the Intergovernmental Panel on Climate Change. Our first step is to import `netCDF4.Dataset`, one of the main tools we use for viewing netCDF files."
   ]
  },
  {
   "cell_type": "code",
   "execution_count": 62,
   "metadata": {},
   "outputs": [],
   "source": [
    "from netCDF4 import Dataset #import Dataset from the netCDF4 package\n",
    "import matplotlib.pyplot as plt\n",
    "import numpy as np\n",
    "ds = Dataset(r'sea_surface_temp.nc')\n",
    "## The two netCDF extensions used are .nc and .cdf"
   ]
  },
  {
   "cell_type": "code",
   "execution_count": 2,
   "metadata": {},
   "outputs": [
    {
     "name": "stdout",
     "output_type": "stream",
     "text": [
      "<class 'netCDF4._netCDF4.Dataset'>\n",
      "root group (NETCDF3_CLASSIC data model, file format NETCDF3):\n",
      "    title: IPSL  model output prepared for IPCC Fourth Assessment SRES A2 experiment\n",
      "    institution: IPSL (Institut Pierre Simon Laplace, Paris, France)\n",
      "    source: IPSL-CM4_v1 (2003) : atmosphere : LMDZ (IPSL-CM4_IPCC, 96x71x19) ; ocean ORCA2 (ipsl_cm4_v1_8, 2x2L31); sea ice LIM (ipsl_cm4_v\n",
      "    contact: Sebastien Denvil, sebastien.denvil@ipsl.jussieu.fr\n",
      "    project_id: IPCC Fourth Assessment\n",
      "    table_id: Table O1 (13 November 2004)\n",
      "    experiment_id: SRES A2 experiment\n",
      "    realization: 1\n",
      "    cmor_version: 0.96\n",
      "    Conventions: CF-1.0\n",
      "    history: YYYY/MM/JJ: data generated; YYYY/MM/JJ+1 data transformed  At 16:37:23 on 01/11/2005, CMOR rewrote data to comply with CF standards and IPCC Fourth Assessment requirements\n",
      "    references: Dufresne et al, Journal of Climate, 2015, vol XX, p 136\n",
      "    comment: Test drive\n",
      "    dimensions(sizes): lon(180), lat(170), time(24), bnds(2)\n",
      "    variables(dimensions): float64 \u001b[4mlon\u001b[0m(lon), float64 \u001b[4mlon_bnds\u001b[0m(lon,bnds), float64 \u001b[4mlat\u001b[0m(lat), float64 \u001b[4mlat_bnds\u001b[0m(lat,bnds), float64 \u001b[4mtime\u001b[0m(time), float64 \u001b[4mtime_bnds\u001b[0m(time,bnds), float32 \u001b[4mtos\u001b[0m(time,lat,lon)\n",
      "    groups: \n",
      "\n"
     ]
    }
   ],
   "source": [
    "print(ds) #What output do you see when you run this command?"
   ]
  },
  {
   "cell_type": "markdown",
   "metadata": {},
   "source": [
    "We've just loaded in the dataset, using the netCDF4 Dataset function, and assigned it the variable name `ds` (short for dataset). \n",
    "\n",
    "Let's find out more about this dataset. We'll look at what scientists call \"metadata.\" \n",
    "\n",
    "With your teammates, discuss: What does the word \"meta\" mean? Can you come up with some examples? "
   ]
  },
  {
   "cell_type": "code",
   "execution_count": 3,
   "metadata": {},
   "outputs": [
    {
     "name": "stdout",
     "output_type": "stream",
     "text": [
      "What do you think metadata means?: data about data\n",
      "data about data\n"
     ]
    }
   ],
   "source": [
    "answer = input(\"What do you think metadata means?: \")\n",
    "print(answer)\n"
   ]
  },
  {
   "cell_type": "markdown",
   "metadata": {},
   "source": [
    "## Section 1: Learning about our dataset: The attributes"
   ]
  },
  {
   "cell_type": "markdown",
   "metadata": {},
   "source": [
    "First, we'll look at the dataset's \"global attributes,\" which can be accessed by calling the `ncattrs` function (shorthand for <b>n</b>et<b>c</b>df **attr**ibutes). "
   ]
  },
  {
   "cell_type": "code",
   "execution_count": 4,
   "metadata": {},
   "outputs": [
    {
     "data": {
      "text/plain": [
       "['title',\n",
       " 'institution',\n",
       " 'source',\n",
       " 'contact',\n",
       " 'project_id',\n",
       " 'table_id',\n",
       " 'experiment_id',\n",
       " 'realization',\n",
       " 'cmor_version',\n",
       " 'Conventions',\n",
       " 'history',\n",
       " 'references',\n",
       " 'comment']"
      ]
     },
     "execution_count": 4,
     "metadata": {},
     "output_type": "execute_result"
    }
   ],
   "source": [
    "ds.ncattrs()"
   ]
  },
  {
   "cell_type": "markdown",
   "metadata": {},
   "source": [
    "To look at one of these, type in the name of the dataset variable, and add a period (.) and the name of the attribute you want to look at."
   ]
  },
  {
   "cell_type": "code",
   "execution_count": 5,
   "metadata": {},
   "outputs": [
    {
     "name": "stdout",
     "output_type": "stream",
     "text": [
      "IPSL  model output prepared for IPCC Fourth Assessment SRES A2 experiment\n"
     ]
    }
   ],
   "source": [
    "print(ds.title)"
   ]
  },
  {
   "cell_type": "markdown",
   "metadata": {},
   "source": [
    "Pick one other dataset attribute that you want to look at, and try calling it in the space below"
   ]
  },
  {
   "cell_type": "code",
   "execution_count": 6,
   "metadata": {},
   "outputs": [],
   "source": [
    "#Your code here: Try accessing an attribute."
   ]
  },
  {
   "cell_type": "markdown",
   "metadata": {},
   "source": [
    "You can access the dimensions of the dataset by calling `ds.dimensions`."
   ]
  },
  {
   "cell_type": "code",
   "execution_count": 7,
   "metadata": {},
   "outputs": [
    {
     "name": "stdout",
     "output_type": "stream",
     "text": [
      "OrderedDict([('lon', <class 'netCDF4._netCDF4.Dimension'>: name = 'lon', size = 180\n",
      "), ('lat', <class 'netCDF4._netCDF4.Dimension'>: name = 'lat', size = 170\n",
      "), ('time', <class 'netCDF4._netCDF4.Dimension'> (unlimited): name = 'time', size = 24\n",
      "), ('bnds', <class 'netCDF4._netCDF4.Dimension'>: name = 'bnds', size = 2\n",
      ")])\n"
     ]
    }
   ],
   "source": [
    "print(ds.dimensions)"
   ]
  },
  {
   "cell_type": "markdown",
   "metadata": {},
   "source": [
    "These variables are stored in a special kind of Python object. Can you figure out what it is?"
   ]
  },
  {
   "cell_type": "code",
   "execution_count": 8,
   "metadata": {},
   "outputs": [
    {
     "name": "stdout",
     "output_type": "stream",
     "text": [
      "Your answer here: \n",
      "\n"
     ]
    }
   ],
   "source": [
    "answer = input(\"Your answer here: \")\n",
    "print(answer)"
   ]
  },
  {
   "cell_type": "code",
   "execution_count": 9,
   "metadata": {},
   "outputs": [
    {
     "data": {
      "text/plain": [
       "<class 'netCDF4._netCDF4.Dimension'>: name = 'lat', size = 170"
      ]
     },
     "execution_count": 9,
     "metadata": {},
     "output_type": "execute_result"
    }
   ],
   "source": [
    "#How do you access the \"keys\" of this object? Write it here, \n",
    "#and then check with your partner to see if you have the same dimensions.\n",
    "ds.dimensions['lat']"
   ]
  },
  {
   "cell_type": "markdown",
   "metadata": {},
   "source": [
    "If you want to see a specific dimension, you can do so by adding brackets and the dimension name in quotes. i.e. `ds.dimensions['lat']`"
   ]
  },
  {
   "cell_type": "code",
   "execution_count": 10,
   "metadata": {},
   "outputs": [
    {
     "name": "stdout",
     "output_type": "stream",
     "text": [
      "<class 'netCDF4._netCDF4.Dimension'>: name = 'lon', size = 180\n",
      "\n"
     ]
    }
   ],
   "source": [
    "print(ds.dimensions['lon'])"
   ]
  },
  {
   "cell_type": "markdown",
   "metadata": {},
   "source": [
    "What two pieces of information do the dimensions tell you about the dataset? Do they tell you anything about the values of those dimensions (i.e., the range of latitude values)?"
   ]
  },
  {
   "cell_type": "code",
   "execution_count": 11,
   "metadata": {},
   "outputs": [
    {
     "name": "stdout",
     "output_type": "stream",
     "text": [
      "A square data area\n"
     ]
    }
   ],
   "source": [
    "print(\"A square data area\")"
   ]
  },
  {
   "cell_type": "markdown",
   "metadata": {},
   "source": [
    "## Section 2: Learning about our dataset: What about the actual data?"
   ]
  },
  {
   "cell_type": "markdown",
   "metadata": {},
   "source": [
    "The `dimensions` and `.ncattrs()` tools are useful for first learning about our dataset and what it's used for, but they doesn't tell us anything about the actual data points! That's why we'll turn to the variables of our dataset. This is the meat and potatoes of netCDF files — very important for analysis."
   ]
  },
  {
   "cell_type": "markdown",
   "metadata": {},
   "source": [
    "We can  access these variables by typing `ds.variables`"
   ]
  },
  {
   "cell_type": "code",
   "execution_count": 12,
   "metadata": {},
   "outputs": [
    {
     "name": "stdout",
     "output_type": "stream",
     "text": [
      "OrderedDict([('lon', <class 'netCDF4._netCDF4.Variable'>\n",
      "float64 lon(lon)\n",
      "    standard_name: longitude\n",
      "    long_name: longitude\n",
      "    units: degrees_east\n",
      "    axis: X\n",
      "    bounds: lon_bnds\n",
      "    original_units: degrees_east\n",
      "unlimited dimensions: \n",
      "current shape = (180,)\n",
      "filling on, default _FillValue of 9.969209968386869e+36 used\n",
      "), ('lon_bnds', <class 'netCDF4._netCDF4.Variable'>\n",
      "float64 lon_bnds(lon, bnds)\n",
      "unlimited dimensions: \n",
      "current shape = (180, 2)\n",
      "filling on, default _FillValue of 9.969209968386869e+36 used\n",
      "), ('lat', <class 'netCDF4._netCDF4.Variable'>\n",
      "float64 lat(lat)\n",
      "    standard_name: latitude\n",
      "    long_name: latitude\n",
      "    units: degrees_north\n",
      "    axis: Y\n",
      "    bounds: lat_bnds\n",
      "    original_units: degrees_north\n",
      "unlimited dimensions: \n",
      "current shape = (170,)\n",
      "filling on, default _FillValue of 9.969209968386869e+36 used\n",
      "), ('lat_bnds', <class 'netCDF4._netCDF4.Variable'>\n",
      "float64 lat_bnds(lat, bnds)\n",
      "unlimited dimensions: \n",
      "current shape = (170, 2)\n",
      "filling on, default _FillValue of 9.969209968386869e+36 used\n",
      "), ('time', <class 'netCDF4._netCDF4.Variable'>\n",
      "float64 time(time)\n",
      "    standard_name: time\n",
      "    long_name: time\n",
      "    units: days since 2001-1-1\n",
      "    axis: T\n",
      "    calendar: 360_day\n",
      "    bounds: time_bnds\n",
      "    original_units: seconds since 2001-1-1\n",
      "unlimited dimensions: time\n",
      "current shape = (24,)\n",
      "filling on, default _FillValue of 9.969209968386869e+36 used\n",
      "), ('time_bnds', <class 'netCDF4._netCDF4.Variable'>\n",
      "float64 time_bnds(time, bnds)\n",
      "unlimited dimensions: time\n",
      "current shape = (24, 2)\n",
      "filling on, default _FillValue of 9.969209968386869e+36 used\n",
      "), ('tos', <class 'netCDF4._netCDF4.Variable'>\n",
      "float32 tos(time, lat, lon)\n",
      "    standard_name: sea_surface_temperature\n",
      "    long_name: Sea Surface Temperature\n",
      "    units: K\n",
      "    cell_methods: time: mean (interval: 30 minutes)\n",
      "    _FillValue: 1e+20\n",
      "    missing_value: 1e+20\n",
      "    original_name: sosstsst\n",
      "    original_units: degC\n",
      "    history:  At   16:37:23 on 01/11/2005: CMOR altered the data in the following ways: added 2.73150E+02 to yield output units;  Cyclical dimension was output starting at a different lon;\n",
      "unlimited dimensions: time\n",
      "current shape = (24, 170, 180)\n",
      "filling on)])\n"
     ]
    }
   ],
   "source": [
    "print(ds.variables)"
   ]
  },
  {
   "cell_type": "markdown",
   "metadata": {},
   "source": [
    "Just like the dimensions, these variables are stored in a Python dictionary. Go ahead and print out the names of the variables in our dataset, which are stored as \"keys\"."
   ]
  },
  {
   "cell_type": "code",
   "execution_count": 13,
   "metadata": {},
   "outputs": [
    {
     "data": {
      "text/plain": [
       "odict_keys(['lon', 'lat', 'time', 'bnds'])"
      ]
     },
     "execution_count": 13,
     "metadata": {},
     "output_type": "execute_result"
    }
   ],
   "source": [
    "#Your code here to print out the names of the variables in our dataset.\n",
    "ds.dimensions.keys()\n",
    "#type(ds.dimensions)\n",
    "#the name is not odict_keys, the type is a dictionary of keys called odict_keys"
   ]
  },
  {
   "cell_type": "code",
   "execution_count": 14,
   "metadata": {},
   "outputs": [
    {
     "data": {
      "text/plain": [
       "<class 'netCDF4._netCDF4.Variable'>\n",
       "float32 tos(time, lat, lon)\n",
       "    standard_name: sea_surface_temperature\n",
       "    long_name: Sea Surface Temperature\n",
       "    units: K\n",
       "    cell_methods: time: mean (interval: 30 minutes)\n",
       "    _FillValue: 1e+20\n",
       "    missing_value: 1e+20\n",
       "    original_name: sosstsst\n",
       "    original_units: degC\n",
       "    history:  At   16:37:23 on 01/11/2005: CMOR altered the data in the following ways: added 2.73150E+02 to yield output units;  Cyclical dimension was output starting at a different lon;\n",
       "unlimited dimensions: time\n",
       "current shape = (24, 170, 180)\n",
       "filling on"
      ]
     },
     "execution_count": 14,
     "metadata": {},
     "output_type": "execute_result"
    }
   ],
   "source": [
    "ds.variables['tos']"
   ]
  },
  {
   "cell_type": "markdown",
   "metadata": {},
   "source": [
    "These variables have a lot more information than the dimensions, right? Let's look at just one variable: `tos`. Inspect it by typing `ds.variables['tos']`"
   ]
  },
  {
   "cell_type": "code",
   "execution_count": 15,
   "metadata": {},
   "outputs": [
    {
     "data": {
      "text/plain": [
       "<class 'netCDF4._netCDF4.Variable'>\n",
       "float32 tos(time, lat, lon)\n",
       "    standard_name: sea_surface_temperature\n",
       "    long_name: Sea Surface Temperature\n",
       "    units: K\n",
       "    cell_methods: time: mean (interval: 30 minutes)\n",
       "    _FillValue: 1e+20\n",
       "    missing_value: 1e+20\n",
       "    original_name: sosstsst\n",
       "    original_units: degC\n",
       "    history:  At   16:37:23 on 01/11/2005: CMOR altered the data in the following ways: added 2.73150E+02 to yield output units;  Cyclical dimension was output starting at a different lon;\n",
       "unlimited dimensions: time\n",
       "current shape = (24, 170, 180)\n",
       "filling on"
      ]
     },
     "execution_count": 15,
     "metadata": {},
     "output_type": "execute_result"
    }
   ],
   "source": [
    "ds.variables['tos']"
   ]
  },
  {
   "cell_type": "code",
   "execution_count": 16,
   "metadata": {},
   "outputs": [
    {
     "name": "stdout",
     "output_type": "stream",
     "text": [
      "What variable is this?: \n",
      "\n"
     ]
    }
   ],
   "source": [
    "answer = input(\"What variable is this?: \")\n",
    "print(answer)"
   ]
  },
  {
   "cell_type": "markdown",
   "metadata": {},
   "source": [
    "Look at the second line. It gives the name of the variable, and it also lists three names in parentheses after it. What do you think those names signify? Do they look familiar?"
   ]
  },
  {
   "cell_type": "markdown",
   "metadata": {},
   "source": [
    "How many different attributes of `tos` can you identify? \n",
    "We can access any one of these attributes by calling it directly. Just add a period at the end of your call to a variable and add in the attribute name."
   ]
  },
  {
   "cell_type": "code",
   "execution_count": 33,
   "metadata": {},
   "outputs": [
    {
     "name": "stdout",
     "output_type": "stream",
     "text": [
      "Sea Surface Temperature\n"
     ]
    }
   ],
   "source": [
    "print(ds.variables['tos'].long_name)"
   ]
  },
  {
   "cell_type": "code",
   "execution_count": 34,
   "metadata": {},
   "outputs": [
    {
     "name": "stdout",
     "output_type": "stream",
     "text": [
      "<class 'netCDF4._netCDF4.Variable'>\n",
      "float64 time(time)\n",
      "    standard_name: time\n",
      "    long_name: time\n",
      "    units: days since 2001-1-1\n",
      "    axis: T\n",
      "    calendar: 360_day\n",
      "    bounds: time_bnds\n",
      "    original_units: seconds since 2001-1-1\n",
      "unlimited dimensions: time\n",
      "current shape = (24,)\n",
      "filling on, default _FillValue of 9.969209968386869e+36 used\n",
      "\n"
     ]
    }
   ],
   "source": [
    "print(ds.variables['time'])"
   ]
  },
  {
   "cell_type": "markdown",
   "metadata": {},
   "source": [
    "Now, let's take a look at some of the data contained in these variables.\n",
    "\n",
    "We'll start with latitude and longitude values. To do so, you'll call on a variable (i.e. `ds.variables['lat']`, as above), but you'll add `[:]` after it to tell the computer that you want to see the numpy array. "
   ]
  },
  {
   "cell_type": "code",
   "execution_count": 35,
   "metadata": {},
   "outputs": [
    {
     "data": {
      "text/plain": [
       "masked_array(data=[-79.5, -78.5, -77.5, -76.5, -75.5, -74.5, -73.5, -72.5,\n",
       "                   -71.5, -70.5, -69.5, -68.5, -67.5, -66.5, -65.5, -64.5,\n",
       "                   -63.5, -62.5, -61.5, -60.5, -59.5, -58.5, -57.5, -56.5,\n",
       "                   -55.5, -54.5, -53.5, -52.5, -51.5, -50.5, -49.5, -48.5,\n",
       "                   -47.5, -46.5, -45.5, -44.5, -43.5, -42.5, -41.5, -40.5,\n",
       "                   -39.5, -38.5, -37.5, -36.5, -35.5, -34.5, -33.5, -32.5,\n",
       "                   -31.5, -30.5, -29.5, -28.5, -27.5, -26.5, -25.5, -24.5,\n",
       "                   -23.5, -22.5, -21.5, -20.5, -19.5, -18.5, -17.5, -16.5,\n",
       "                   -15.5, -14.5, -13.5, -12.5, -11.5, -10.5,  -9.5,  -8.5,\n",
       "                    -7.5,  -6.5,  -5.5,  -4.5,  -3.5,  -2.5,  -1.5,  -0.5,\n",
       "                     0.5,   1.5,   2.5,   3.5,   4.5,   5.5,   6.5,   7.5,\n",
       "                     8.5,   9.5,  10.5,  11.5,  12.5,  13.5,  14.5,  15.5,\n",
       "                    16.5,  17.5,  18.5,  19.5,  20.5,  21.5,  22.5,  23.5,\n",
       "                    24.5,  25.5,  26.5,  27.5,  28.5,  29.5,  30.5,  31.5,\n",
       "                    32.5,  33.5,  34.5,  35.5,  36.5,  37.5,  38.5,  39.5,\n",
       "                    40.5,  41.5,  42.5,  43.5,  44.5,  45.5,  46.5,  47.5,\n",
       "                    48.5,  49.5,  50.5,  51.5,  52.5,  53.5,  54.5,  55.5,\n",
       "                    56.5,  57.5,  58.5,  59.5,  60.5,  61.5,  62.5,  63.5,\n",
       "                    64.5,  65.5,  66.5,  67.5,  68.5,  69.5,  70.5,  71.5,\n",
       "                    72.5,  73.5,  74.5,  75.5,  76.5,  77.5,  78.5,  79.5,\n",
       "                    80.5,  81.5,  82.5,  83.5,  84.5,  85.5,  86.5,  87.5,\n",
       "                    88.5,  89.5],\n",
       "             mask=False,\n",
       "       fill_value=1e+20)"
      ]
     },
     "execution_count": 35,
     "metadata": {},
     "output_type": "execute_result"
    }
   ],
   "source": [
    "#Latitude\n",
    "ds.variables['lat'][:]"
   ]
  },
  {
   "cell_type": "code",
   "execution_count": 36,
   "metadata": {},
   "outputs": [
    {
     "data": {
      "text/plain": [
       "masked_array(data=[  1.,   3.,   5.,   7.,   9.,  11.,  13.,  15.,  17.,\n",
       "                    19.,  21.,  23.,  25.,  27.,  29.,  31.,  33.,  35.,\n",
       "                    37.,  39.,  41.,  43.,  45.,  47.,  49.,  51.,  53.,\n",
       "                    55.,  57.,  59.,  61.,  63.,  65.,  67.,  69.,  71.,\n",
       "                    73.,  75.,  77.,  79.,  81.,  83.,  85.,  87.,  89.,\n",
       "                    91.,  93.,  95.,  97.,  99., 101., 103., 105., 107.,\n",
       "                   109., 111., 113., 115., 117., 119., 121., 123., 125.,\n",
       "                   127., 129., 131., 133., 135., 137., 139., 141., 143.,\n",
       "                   145., 147., 149., 151., 153., 155., 157., 159., 161.,\n",
       "                   163., 165., 167., 169., 171., 173., 175., 177., 179.,\n",
       "                   181., 183., 185., 187., 189., 191., 193., 195., 197.,\n",
       "                   199., 201., 203., 205., 207., 209., 211., 213., 215.,\n",
       "                   217., 219., 221., 223., 225., 227., 229., 231., 233.,\n",
       "                   235., 237., 239., 241., 243., 245., 247., 249., 251.,\n",
       "                   253., 255., 257., 259., 261., 263., 265., 267., 269.,\n",
       "                   271., 273., 275., 277., 279., 281., 283., 285., 287.,\n",
       "                   289., 291., 293., 295., 297., 299., 301., 303., 305.,\n",
       "                   307., 309., 311., 313., 315., 317., 319., 321., 323.,\n",
       "                   325., 327., 329., 331., 333., 335., 337., 339., 341.,\n",
       "                   343., 345., 347., 349., 351., 353., 355., 357., 359.],\n",
       "             mask=False,\n",
       "       fill_value=1e+20)"
      ]
     },
     "execution_count": 36,
     "metadata": {},
     "output_type": "execute_result"
    }
   ],
   "source": [
    "#Longitude\n",
    "## Add in your code here to display the longitude like you displayed the latitude\n",
    "ds.variables['lon'][:]"
   ]
  },
  {
   "cell_type": "markdown",
   "metadata": {},
   "source": [
    "Do these outputs look familiar? (Think back to what we talked about on Monday...)"
   ]
  },
  {
   "cell_type": "code",
   "execution_count": 37,
   "metadata": {},
   "outputs": [
    {
     "name": "stdout",
     "output_type": "stream",
     "text": [
      "What are these outputs examples of?: arrays\n",
      "arrays\n"
     ]
    }
   ],
   "source": [
    "answer = input(\"What are these outputs examples of?: \")\n",
    "print(answer)"
   ]
  },
  {
   "cell_type": "markdown",
   "metadata": {},
   "source": [
    "What about the sea-surface temperature values (i.e., the actual \"data\"?)"
   ]
  },
  {
   "cell_type": "code",
   "execution_count": 38,
   "metadata": {},
   "outputs": [
    {
     "name": "stdout",
     "output_type": "stream",
     "text": [
      "<class 'netCDF4._netCDF4.Variable'>\n",
      "float32 tos(time, lat, lon)\n",
      "    standard_name: sea_surface_temperature\n",
      "    long_name: Sea Surface Temperature\n",
      "    units: K\n",
      "    cell_methods: time: mean (interval: 30 minutes)\n",
      "    _FillValue: 1e+20\n",
      "    missing_value: 1e+20\n",
      "    original_name: sosstsst\n",
      "    original_units: degC\n",
      "    history:  At   16:37:23 on 01/11/2005: CMOR altered the data in the following ways: added 2.73150E+02 to yield output units;  Cyclical dimension was output starting at a different lon;\n",
      "unlimited dimensions: time\n",
      "current shape = (24, 170, 180)\n",
      "filling on\n"
     ]
    }
   ],
   "source": [
    "print(ds.variables['tos'])"
   ]
  },
  {
   "cell_type": "code",
   "execution_count": 40,
   "metadata": {},
   "outputs": [
    {
     "name": "stdout",
     "output_type": "stream",
     "text": [
      "(24, 170, 180)\n"
     ]
    }
   ],
   "source": [
    "print(ds.variables['tos'][:].shape)"
   ]
  },
  {
   "cell_type": "markdown",
   "metadata": {},
   "source": [
    "What do you think each value in the shape of this numpy array represents? \n",
    "Thinking back to when we talked about NumPy arrays on Monday and Wednesday, draw your visual representation of this dataset on a piece of paper. Make sure to include all of the dimensions. "
   ]
  },
  {
   "cell_type": "markdown",
   "metadata": {},
   "source": [
    "## Section 3: Plotting the data"
   ]
  },
  {
   "cell_type": "markdown",
   "metadata": {},
   "source": [
    "OK, so now we have found out all of the dimensions and variables of this netCDF file -- what about plotting the data?\n",
    "\n",
    "First, for convenience, let's assign our four netCDF variables to Python variables, so we can access them without having to type `ds.variables` over and over."
   ]
  },
  {
   "cell_type": "code",
   "execution_count": 42,
   "metadata": {},
   "outputs": [],
   "source": [
    "## Write your variable assignments here!\n",
    "tos = ds.variables['tos'][:]\n",
    "time = ds.variables['time'][:]\n",
    "lat = ds.variables['lat'][:]\n",
    "lon = ds.variables['lon'][:]"
   ]
  },
  {
   "cell_type": "markdown",
   "metadata": {},
   "source": [
    "To plot, we'll need to import another library. Can you think of what it might be? Go ahead and write that import statement up at the top of your script and make sure to re-run it."
   ]
  },
  {
   "cell_type": "markdown",
   "metadata": {},
   "source": [
    "From this library, we will use the `pcolor` function to make a pseudocolor plot. Here, each grid cell is assigned a color based on its value, much like the maps you made for your final project for the Climate Change unit. Fortunately, `pcolor` automates all of that! "
   ]
  },
  {
   "cell_type": "markdown",
   "metadata": {},
   "source": [
    "`plt.pcolor` is a function that takes in **X</t>**, **Y</t>**, and **Z</t>** arrays. The **X</t>** and **Y</t>** arrays give the plot its shape and values along each axis, while the **Z</t>** array represents the heights/values that `pcolor` will transform into colors. Therefore, for consistency in plotting, the shape of Z has to have the same number of rows as len(**</t>Y**) and the same number of columns as len(**</t>X**). \n",
    "(Remember: columns are tall and skinny, and the number of columns is measured along the x axis. Rows are straight and sideways, and the number of rows is measured along the y axis).\n",
    "\n",
    "To find out the shape of an array, use `name_of_array.shape` (replace name_of_array with the name of the array!)"
   ]
  },
  {
   "cell_type": "code",
   "execution_count": 53,
   "metadata": {},
   "outputs": [
    {
     "data": {
      "text/plain": [
       "(24, 170, 180)"
      ]
     },
     "execution_count": 53,
     "metadata": {},
     "output_type": "execute_result"
    }
   ],
   "source": [
    "tos.shape"
   ]
  },
  {
   "cell_type": "code",
   "execution_count": 78,
   "metadata": {},
   "outputs": [
    {
     "data": {
      "image/png": "[encoded data removed]",
      "text/plain": [
       "<Figure size 432x288 with 2 Axes>"
      ]
     },
     "metadata": {
      "needs_background": "light"
     },
     "output_type": "display_data"
    }
   ],
   "source": [
    "plt.pcolor(lon, lat, tos[0, :, :], cmap = \"plasma\")\n",
    "plt.title(\"Sea Surface Temperature (Day 1)\")\n",
    "plt.xlabel(\"Lon\")\n",
    "plt.ylabel(\"Lat\")\n",
    "plt.colorbar()\n",
    "ax = plt.gca()\n",
    "ax.set_facecolor('xkcd:White')\n",
    "plt.show()\n",
    "#Replace X, Y, Z with what you think are the appropriate dimensions. \n",
    "#This may be a little challenging -- ask for help if you need it!"
   ]
  },
  {
   "cell_type": "markdown",
   "metadata": {},
   "source": [
    "### Now, time to have some fun with your plots! You can add a colorbar, change the colormap (i.e. map different values to different colors), add a title, add some x and y axis labels, and save the plot.\n",
    "\n",
    "**Colormap fun**: https://matplotlib.org/tutorials/colors/colormaps.html (scroll down to the bottom for some examples)\n",
    "\n",
    "**Colorbar fun**: https://jakevdp.github.io/PythonDataScienceHandbook/04.07-customizing-colorbars.html"
   ]
  },
  {
   "cell_type": "markdown",
   "metadata": {},
   "source": [
    "## 👉netCDF file cheat sheet👈\n",
    "[This tutorial](http://www.ceda.ac.uk/static/media/uploads/ncas-reading-2015/10_read_netcdf_python.pdf) was written in Python 2.7, so the print command is slightly different, but it's a helpful read to understand how these files work."
   ]
  },
  {
   "cell_type": "markdown",
   "metadata": {},
   "source": [
    "Addditionally: \n",
    "1. Import the tools to open a dataset: `from netCDF4 import Dataset`\n",
    "2. Open a dataset: `ds = Dataset('filename.nc')`\n",
    "3. View the dataset's attributes: `ds.ncattrs()`\n",
    "4. Access a specific attribute: `ds.attribute_name`\n",
    "5. View the dataset's dimensions: `ds.dimensions`\n",
    "6. View a specific dimension: `ds.dimensions[ 'name of dimension' ]`\n",
    "7. View the dataset's variables: `ds.variables`\n",
    "8. View a specific variable: `ds.variables[ 'name of variable' ]`\n",
    "9. See a variable's values: `ds.variables[ 'name of variable' ][:]`"
   ]
  },
  {
   "cell_type": "code",
   "execution_count": null,
   "metadata": {},
   "outputs": [],
   "source": []
  }
 ],
 "metadata": {
  "kernelspec": {
   "display_name": "Python 3",
   "language": "python",
   "name": "python3"
  },
  "language_info": {
   "codemirror_mode": {
    "name": "ipython",
    "version": 3
   },
   "file_extension": ".py",
   "mimetype": "text/x-python",
   "name": "python",
   "nbconvert_exporter": "python",
   "pygments_lexer": "ipython3",
   "version": "3.7.3"
  }
 },
 "nbformat": 4,
 "nbformat_minor": 2
}
