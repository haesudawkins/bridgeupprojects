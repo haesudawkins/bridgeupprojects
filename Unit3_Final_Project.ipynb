{
 "cells": [
  {
   "cell_type": "markdown",
   "metadata": {},
   "source": [
    "# Find the difference in percentage when comparing two gene sequences"
   ]
  },
  {
   "cell_type": "code",
   "execution_count": 21,
   "metadata": {},
   "outputs": [],
   "source": [
    "mDNA = open(\"Manatee.txt\").read()\n",
    "cDNA = open(\"Cattle.txt\").read()\n",
    "dDNA = open(\"Dolphin.txt\").read()"
   ]
  },
  {
   "cell_type": "code",
   "execution_count": 22,
   "metadata": {},
   "outputs": [
    {
     "name": "stdout",
     "output_type": "stream",
     "text": [
      "There are 390 differences between manatee and cattle DNA.\n"
     ]
    }
   ],
   "source": [
    "diffmc = 0\n",
    "for n,i in enumerate(mDNA):\n",
    "    if i != cDNA[n]:\n",
    "        diffmc += 1\n",
    "\n",
    "print(\"There are\",diffmc,\"differences between manatee and cattle DNA.\")"
   ]
  },
  {
   "cell_type": "code",
   "execution_count": 23,
   "metadata": {},
   "outputs": [
    {
     "name": "stdout",
     "output_type": "stream",
     "text": [
      "There are 63.78205128205128 differences between manatee and dolphin DNA.\n"
     ]
    }
   ],
   "source": [
    "diff = 0\n",
    "for n,i in enumerate(mDNA):\n",
    "    if i != dDNA[n]:\n",
    "        diff += 1\n",
    "print(\"There are\",(diff/len(dDNA)) * 100,\"differences between manatee and dolphin DNA.\")"
   ]
  },
  {
   "cell_type": "code",
   "execution_count": 24,
   "metadata": {},
   "outputs": [
    {
     "name": "stdout",
     "output_type": "stream",
     "text": [
      "There is a  18.58974358974359 % difference between dolphin and cattle DNA.\n"
     ]
    }
   ],
   "source": [
    "diffdc = 0\n",
    "for n,i in enumerate(cDNA):\n",
    "    if i != dDNA[n]:\n",
    "        diffdc += 1\n",
    "print(\"There is a \",(diffdc/len(dDNA)) * 100,\"% difference between dolphin and cattle DNA.\")"
   ]
  },
  {
   "cell_type": "code",
   "execution_count": 31,
   "metadata": {},
   "outputs": [
    {
     "data": {
      "image/png": "[encoded data removed]",
      "text/plain": [
       "<Figure size 432x288 with 1 Axes>"
      ]
     },
     "metadata": {
      "needs_background": "light"
     },
     "output_type": "display_data"
    }
   ],
   "source": [
    "import numpy as np\n",
    "import matplotlib.pyplot as plt\n",
    "plt.bar([1,2,3], [diff, diffmc, diffdc], color = (\"slateblue\", \"darkviolet\", \"deeppink\"))\n",
    "plt.xticks([1,2,3], [\"Manatee and Dolphin\", \"Manatee and cow\", \"Dolphin and cow\"])\n",
    "plt.title(\"Manatee, dolphin, and cow differences\")\n",
    "plt.show()\n"
   ]
  },
  {
   "cell_type": "code",
   "execution_count": 13,
   "metadata": {},
   "outputs": [],
   "source": [
    "def lenFunction(obj):\n",
    "    c = 0\n",
    "    for i in obj:\n",
    "        c += 1\n",
    "    return c"
   ]
  },
  {
   "cell_type": "code",
   "execution_count": 47,
   "metadata": {},
   "outputs": [],
   "source": [
    "def diffFunction(dna1,dna2):\n",
    "    diffF = 0\n",
    "    for n,i in enumerate(dna1):\n",
    "        if i != dna2[n]:\n",
    "            diffF += 1\n",
    "    return diffF"
   ]
  },
  {
   "cell_type": "code",
   "execution_count": 50,
   "metadata": {},
   "outputs": [
    {
     "name": "stdout",
     "output_type": "stream",
     "text": [
      "116\n"
     ]
    }
   ],
   "source": [
    "print(diffFunction(dDNA,cDNA))"
   ]
  },
  {
   "cell_type": "code",
   "execution_count": 14,
   "metadata": {},
   "outputs": [
    {
     "name": "stdout",
     "output_type": "stream",
     "text": [
      "2\n",
      "2\n"
     ]
    }
   ],
   "source": [
    "list1 = [\"word\",\"hello\"]\n",
    "print(len(list1))\n",
    "print(lenFunction(list1))"
   ]
  },
  {
   "cell_type": "code",
   "execution_count": 15,
   "metadata": {},
   "outputs": [],
   "source": [
    "def addNum(num1, num2):\n",
    "    nsum = num1+num2\n",
    "    return nsum"
   ]
  },
  {
   "cell_type": "code",
   "execution_count": 16,
   "metadata": {},
   "outputs": [
    {
     "name": "stdout",
     "output_type": "stream",
     "text": [
      "8\n"
     ]
    }
   ],
   "source": [
    "print(addNum(3,5))"
   ]
  }
 ],
 "metadata": {
  "kernelspec": {
   "display_name": "Python 3",
   "language": "python",
   "name": "python3"
  },
  "language_info": {
   "codemirror_mode": {
    "name": "ipython",
    "version": 3
   },
   "file_extension": ".py",
   "mimetype": "text/x-python",
   "name": "python",
   "nbconvert_exporter": "python",
   "pygments_lexer": "ipython3",
   "version": "3.7.3"
  }
 },
 "nbformat": 4,
 "nbformat_minor": 2
}
