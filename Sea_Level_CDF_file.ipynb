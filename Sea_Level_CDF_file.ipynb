{
 "cells": [
  {
   "cell_type": "code",
   "execution_count": 3,
   "metadata": {},
   "outputs": [],
   "source": [
    "from netCDF4 import Dataset #import Dataset from the netCDF4 package\n",
    "import matplotlib.pyplot as plt\n",
    "import numpy as np\n",
    "import datetime\n",
    "\n",
    "\n",
    "ds = Dataset(r'mystery_file.nc')\n",
    "\n",
    "## The two netCDF extensions used are .nc and .cdf"
   ]
  },
  {
   "cell_type": "code",
   "execution_count": 4,
   "metadata": {
    "scrolled": true
   },
   "outputs": [
    {
     "name": "stdout",
     "output_type": "stream",
     "text": [
      "<class 'netCDF4._netCDF4.Dataset'>\n",
      "root group (NETCDF3_CLASSIC data model, file format NETCDF3):\n",
      "    Conventions: CF-1.6\n",
      "    Metadata_Conventions: Unidata Dataset Discovery v1.0\n",
      "    cdm_data_type: Grid\n",
      "    comment: Sea Surface Height measured by Altimetry and derived variables\n",
      "    contact: servicedesk.cmems@mercator-ocean.eu\n",
      "    creator_email: servicedesk.cmems@mercator-ocean.eu\n",
      "    creator_name: CMEMS - Sea Level Thematic Assembly Center\n",
      "    creator_url: http://marine.copernicus.eu\n",
      "    date_created: 2018-10-25T08:03:12Z\n",
      "    date_issued: 2018-10-25T08:03:12Z\n",
      "    date_modified: 2018-10-25T08:03:12Z\n",
      "    geospatial_lat_max: 50.375\n",
      "    geospatial_lat_min: 20.625\n",
      "    geospatial_lat_resolution: 0.25\n",
      "    geospatial_lat_units: degrees_north\n",
      "    geospatial_lon_max: -39.625\n",
      "    geospatial_lon_min: -90.625\n",
      "    geospatial_lon_resolution: 0.25\n",
      "    geospatial_lon_units: degrees_east\n",
      "    geospatial_vertical_max: 0.0\n",
      "    geospatial_vertical_min: 0.0\n",
      "    geospatial_vertical_positive: down\n",
      "    geospatial_vertical_resolution: point\n",
      "    geospatial_vertical_units: m\n",
      "    history: Fri May 10 15:10:21 2019: ncks -v time,latitude,longitude,sla dataset-duacs-rep-global-merged-allsat-phy-l4_1551981104609.nc NW_Atlantic_SLA.nc\n",
      "2018-10-25 08:03:15Z: Creation\n",
      "    institution: CLS, CNES\n",
      "    keywords: Oceans > Ocean Topography > Sea Surface Height\n",
      "    keywords_vocabulary: NetCDF COARDS Climate and Forecast Standard Names\n",
      "    license: http://marine.copernicus.eu/web/27-service-commitments-and-licence.php\n",
      "    platform: Altika Drifting Phase, Cryosat-2, Haiyang-2A Geodetic Phase, Jason-3, Sentinel-3A\n",
      "    processing_level: L4\n",
      "    product_version: 4.0.0\n",
      "    project: COPERNICUS MARINE ENVIRONMENT MONITORING SERVICE (CMEMS)\n",
      "    references: http://marine.copernicus.eu\n",
      "    software_version: 6.1\n",
      "    source: Altimetry measurements\n",
      "    ssalto_duacs_comment: The reference mission used for the altimeter inter-calibration processing is Topex/Poseidon between 1993-01-01 and 2002-04-23, Jason-1 between 2002-04-24 and 2008-10-18, OSTM/Jason-2 between 2008-10-19 and 2016-06-25, Jason-3 since 2016-06-25.\n",
      "    standard_name_vocabulary: NetCDF Climate and Forecast (CF) Metadata Convention Standard Name Table v37\n",
      "    summary: SSALTO/DUACS Delayed-Time Level-4 sea surface height and derived variables measured by multi-satellite altimetry observations over Global Ocean.\n",
      "    time_coverage_duration: P1D\n",
      "    time_coverage_end: 2018-06-10T00:00:00Z\n",
      "    time_coverage_resolution: P1D\n",
      "    time_coverage_start: 2018-06-10T00:00:00Z\n",
      "    title: DT merged all satellites Global Ocean Gridded SSALTO/DUACS Sea Surface Height L4 product and derived variables\n",
      "    History: Translated to CF-1.0 Conventions by Netcdf-Java CDM (CFGridWriter2)\n",
      "Original Dataset = dataset-duacs-rep-global-merged-allsat-phy-l4; Translation Date = 2019-03-07T17:51:44.693Z\n",
      "    NCO: netCDF Operators version 4.7.8 (Homepage = http://nco.sf.net, Code = http://github.com/nco/nco)\n",
      "    dimensions(sizes): latitude(120), longitude(205), time(1462)\n",
      "    variables(dimensions): float32 \u001b[4mlatitude\u001b[0m(latitude), float32 \u001b[4mlongitude\u001b[0m(longitude), int32 \u001b[4msla\u001b[0m(time,latitude,longitude), float32 \u001b[4mtime\u001b[0m(time)\n",
      "    groups: \n",
      "\n"
     ]
    }
   ],
   "source": [
    "print(ds)"
   ]
  },
  {
   "cell_type": "code",
   "execution_count": 5,
   "metadata": {
    "scrolled": true
   },
   "outputs": [
    {
     "name": "stdout",
     "output_type": "stream",
     "text": [
      "OrderedDict([('latitude', <class 'netCDF4._netCDF4.Variable'>\n",
      "float32 latitude(latitude)\n",
      "    axis: Y\n",
      "    bounds: lat_bnds\n",
      "    long_name: Latitude\n",
      "    standard_name: latitude\n",
      "    units: degrees_north\n",
      "    valid_max: 89.875\n",
      "    valid_min: -89.875\n",
      "    _CoordinateAxisType: Lat\n",
      "unlimited dimensions: \n",
      "current shape = (120,)\n",
      "filling on, default _FillValue of 9.969209968386869e+36 used\n",
      "), ('longitude', <class 'netCDF4._netCDF4.Variable'>\n",
      "float32 longitude(longitude)\n",
      "    axis: X\n",
      "    bounds: lon_bnds\n",
      "    long_name: Longitude\n",
      "    standard_name: longitude\n",
      "    units: degrees_east\n",
      "    valid_max: 359.875\n",
      "    valid_min: 0.125\n",
      "    _CoordinateAxisType: Lon\n",
      "unlimited dimensions: \n",
      "current shape = (205,)\n",
      "filling on, default _FillValue of 9.969209968386869e+36 used\n",
      "), ('sla', <class 'netCDF4._netCDF4.Variable'>\n",
      "int32 sla(time, latitude, longitude)\n",
      "    _FillValue: -2147483647\n",
      "    comment: The sea level anomaly is the sea surface height above mean sea surface; it is referenced to the [1993, 2012] period; see the product user manual for details\n",
      "    coordinates: time latitude longitude \n",
      "    grid_mapping: crs\n",
      "    long_name: Sea level anomaly\n",
      "    scale_factor: 0.0001\n",
      "    standard_name: sea_surface_height_above_sea_level\n",
      "    units: m\n",
      "unlimited dimensions: \n",
      "current shape = (1462, 120, 205)\n",
      "filling on), ('time', <class 'netCDF4._netCDF4.Variable'>\n",
      "float32 time(time)\n",
      "    axis: T\n",
      "    calendar: gregorian\n",
      "    long_name: Time\n",
      "    standard_name: time\n",
      "    units: days since 1950-01-01 00:00:00\n",
      "    _CoordinateAxisType: Time\n",
      "unlimited dimensions: \n",
      "current shape = (1462,)\n",
      "filling on, default _FillValue of 9.969209968386869e+36 used\n",
      ")])\n"
     ]
    }
   ],
   "source": [
    "print(ds.variables)"
   ]
  },
  {
   "cell_type": "code",
   "execution_count": 6,
   "metadata": {},
   "outputs": [
    {
     "data": {
      "text/plain": [
       "OrderedDict([('latitude', <class 'netCDF4._netCDF4.Variable'>\n",
       "              float32 latitude(latitude)\n",
       "                  axis: Y\n",
       "                  bounds: lat_bnds\n",
       "                  long_name: Latitude\n",
       "                  standard_name: latitude\n",
       "                  units: degrees_north\n",
       "                  valid_max: 89.875\n",
       "                  valid_min: -89.875\n",
       "                  _CoordinateAxisType: Lat\n",
       "              unlimited dimensions: \n",
       "              current shape = (120,)\n",
       "              filling on, default _FillValue of 9.969209968386869e+36 used),\n",
       "             ('longitude', <class 'netCDF4._netCDF4.Variable'>\n",
       "              float32 longitude(longitude)\n",
       "                  axis: X\n",
       "                  bounds: lon_bnds\n",
       "                  long_name: Longitude\n",
       "                  standard_name: longitude\n",
       "                  units: degrees_east\n",
       "                  valid_max: 359.875\n",
       "                  valid_min: 0.125\n",
       "                  _CoordinateAxisType: Lon\n",
       "              unlimited dimensions: \n",
       "              current shape = (205,)\n",
       "              filling on, default _FillValue of 9.969209968386869e+36 used),\n",
       "             ('sla', <class 'netCDF4._netCDF4.Variable'>\n",
       "              int32 sla(time, latitude, longitude)\n",
       "                  _FillValue: -2147483647\n",
       "                  comment: The sea level anomaly is the sea surface height above mean sea surface; it is referenced to the [1993, 2012] period; see the product user manual for details\n",
       "                  coordinates: time latitude longitude \n",
       "                  grid_mapping: crs\n",
       "                  long_name: Sea level anomaly\n",
       "                  scale_factor: 0.0001\n",
       "                  standard_name: sea_surface_height_above_sea_level\n",
       "                  units: m\n",
       "              unlimited dimensions: \n",
       "              current shape = (1462, 120, 205)\n",
       "              filling on),\n",
       "             ('time', <class 'netCDF4._netCDF4.Variable'>\n",
       "              float32 time(time)\n",
       "                  axis: T\n",
       "                  calendar: gregorian\n",
       "                  long_name: Time\n",
       "                  standard_name: time\n",
       "                  units: days since 1950-01-01 00:00:00\n",
       "                  _CoordinateAxisType: Time\n",
       "              unlimited dimensions: \n",
       "              current shape = (1462,)\n",
       "              filling on, default _FillValue of 9.969209968386869e+36 used)])"
      ]
     },
     "execution_count": 6,
     "metadata": {},
     "output_type": "execute_result"
    }
   ],
   "source": [
    "ds.variables"
   ]
  },
  {
   "cell_type": "code",
   "execution_count": 7,
   "metadata": {},
   "outputs": [
    {
     "data": {
      "text/plain": [
       "'days since 1950-01-01 00:00:00'"
      ]
     },
     "execution_count": 7,
     "metadata": {},
     "output_type": "execute_result"
    }
   ],
   "source": [
    "ds.variables['time'].units"
   ]
  },
  {
   "cell_type": "code",
   "execution_count": 8,
   "metadata": {},
   "outputs": [],
   "source": [
    "time1 = ds.variables['time'][:]"
   ]
  },
  {
   "cell_type": "code",
   "execution_count": 49,
   "metadata": {},
   "outputs": [],
   "source": [
    "#function to calculate time in a way that is not calculating days from 1/1/1950\n",
    "#t1 = 1\n",
    "def date_adder(t1):\n",
    "    \n",
    "    start_date = datetime.date(1950,1,1)\n",
    "    delta = datetime.timedelta(days = t1)\n",
    "    days_now = start_date + delta\n",
    "    return (days_now.strftime(\"%a /%m /%d / %Y\"))\n",
    "    print (days_now.strftime('%c'))"
   ]
  },
  {
   "cell_type": "code",
   "execution_count": 50,
   "metadata": {},
   "outputs": [
    {
     "data": {
      "text/plain": [
       "'Wed /06 /11 / 2014'"
      ]
     },
     "execution_count": 50,
     "metadata": {},
     "output_type": "execute_result"
    }
   ],
   "source": [
    "date_adder(23537)"
   ]
  },
  {
   "cell_type": "code",
   "execution_count": 53,
   "metadata": {},
   "outputs": [
    {
     "ename": "NameError",
     "evalue": "name 'strftime' is not defined",
     "output_type": "error",
     "traceback": [
      "\u001b[0;31m---------------------------------------------------------------------------\u001b[0m",
      "\u001b[0;31mNameError\u001b[0m                                 Traceback (most recent call last)",
      "\u001b[0;32m<ipython-input-53-2067a3678004>\u001b[0m in \u001b[0;36m<module>\u001b[0;34m\u001b[0m\n\u001b[0;32m----> 1\u001b[0;31m \u001b[0mprint\u001b[0m \u001b[0;34m(\u001b[0m\u001b[0mstrftime\u001b[0m\u001b[0;34m(\u001b[0m\u001b[0;34m'%c'\u001b[0m\u001b[0;34m)\u001b[0m\u001b[0;34m)\u001b[0m\u001b[0;34m\u001b[0m\u001b[0;34m\u001b[0m\u001b[0m\n\u001b[0m",
      "\u001b[0;31mNameError\u001b[0m: name 'strftime' is not defined"
     ]
    }
   ],
   "source": [
    "print (strftime('%c'))"
   ]
  },
  {
   "cell_type": "code",
   "execution_count": null,
   "metadata": {},
   "outputs": [],
   "source": [
    "sla = ds.variables['sla'][:]\n",
    "time = ds.variables['time'][:]\n",
    "lat = ds.variables['latitude'][:]\n",
    "lon = ds.variables['longitude'][:]"
   ]
  },
  {
   "cell_type": "code",
   "execution_count": null,
   "metadata": {},
   "outputs": [],
   "source": [
    "plt.pcolor(lon, lat, sla[0, :, :], cmap = \"plasma\")\n",
    "plt.title(\"Sea Levels\")\n",
    "plt.xlabel(\"Lon\")\n",
    "plt.ylabel(\"Lat\")\n",
    "plt.colorbar()\n",
    "ax = plt.gca()\n",
    "ax.set_facecolor('xkcd:White')\n",
    "plt.show()"
   ]
  },
  {
   "cell_type": "code",
   "execution_count": null,
   "metadata": {},
   "outputs": [],
   "source": []
  },
  {
   "cell_type": "code",
   "execution_count": null,
   "metadata": {},
   "outputs": [],
   "source": []
  }
 ],
 "metadata": {
  "kernelspec": {
   "display_name": "Python 3",
   "language": "python",
   "name": "python3"
  },
  "language_info": {
   "codemirror_mode": {
    "name": "ipython",
    "version": 3
   },
   "file_extension": ".py",
   "mimetype": "text/x-python",
   "name": "python",
   "nbconvert_exporter": "python",
   "pygments_lexer": "ipython3",
   "version": "3.7.3"
  }
 },
 "nbformat": 4,
 "nbformat_minor": 2
}
